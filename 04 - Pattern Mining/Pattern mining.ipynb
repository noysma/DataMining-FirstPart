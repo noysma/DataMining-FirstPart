{
 "cells": [
  {
   "cell_type": "code",
   "execution_count": 1,
   "metadata": {},
   "outputs": [],
   "source": [
    "import numpy as np\n",
    "import pandas as pd\n",
    "import seaborn as sns\n",
    "\n",
    "import matplotlib.pyplot as plt\n",
    "%matplotlib inline\n",
    "from fim import apriori\n",
    "\n",
    "import statistics\n",
    "import math"
   ]
  },
  {
   "cell_type": "code",
   "execution_count": 2,
   "metadata": {},
   "outputs": [],
   "source": [
    "df = pd.read_csv(\"words_glasgow.csv\", skipinitialspace=True)"
   ]
  },
  {
   "cell_type": "markdown",
   "metadata": {},
   "source": [
    "## Pre-processing (light)"
   ]
  },
  {
   "cell_type": "code",
   "execution_count": 3,
   "metadata": {},
   "outputs": [],
   "source": [
    "intp = df['web_corpus_freq'].interpolate(method=\"linear\")\n",
    "df['web_corpus_freq_interp_linear'] = df['web_corpus_freq'].fillna(intp)\n",
    "\n",
    "#remove useless variables\n",
    "column2drop = [\"word\", 'web_corpus_freq', 'semsize', 'imageability']\n",
    "df.drop(column2drop, axis=1, inplace=True)"
   ]
  },
  {
   "cell_type": "markdown",
   "metadata": {},
   "source": [
    "# Pattern Mining pre-processing"
   ]
  },
  {
   "cell_type": "code",
   "execution_count": 4,
   "metadata": {},
   "outputs": [
    {
     "data": {
      "text/html": [
       "<div>\n",
       "<style scoped>\n",
       "    .dataframe tbody tr th:only-of-type {\n",
       "        vertical-align: middle;\n",
       "    }\n",
       "\n",
       "    .dataframe tbody tr th {\n",
       "        vertical-align: top;\n",
       "    }\n",
       "\n",
       "    .dataframe thead th {\n",
       "        text-align: right;\n",
       "    }\n",
       "</style>\n",
       "<table border=\"1\" class=\"dataframe\">\n",
       "  <thead>\n",
       "    <tr style=\"text-align: right;\">\n",
       "      <th></th>\n",
       "      <th>length</th>\n",
       "      <th>polysemy</th>\n",
       "      <th>arousal_group</th>\n",
       "      <th>valence_group</th>\n",
       "      <th>dominance_group</th>\n",
       "      <th>concreteness_group</th>\n",
       "      <th>familiarity_group</th>\n",
       "      <th>aoa_group</th>\n",
       "      <th>gender_group</th>\n",
       "      <th>web_corpus_freq_interp_group</th>\n",
       "    </tr>\n",
       "  </thead>\n",
       "  <tbody>\n",
       "    <tr>\n",
       "      <th>0</th>\n",
       "      <td>8</td>\n",
       "      <td>0</td>\n",
       "      <td>arousal_low</td>\n",
       "      <td>valence_low</td>\n",
       "      <td>dominance_low</td>\n",
       "      <td>concreteness_high</td>\n",
       "      <td>familiarity_low</td>\n",
       "      <td>aoa_high</td>\n",
       "      <td>gender_mal</td>\n",
       "      <td>web_corpus_no_freq</td>\n",
       "    </tr>\n",
       "    <tr>\n",
       "      <th>1</th>\n",
       "      <td>5</td>\n",
       "      <td>0</td>\n",
       "      <td>arousal_low</td>\n",
       "      <td>valence_high</td>\n",
       "      <td>dominance_low</td>\n",
       "      <td>concreteness_high</td>\n",
       "      <td>familiarity_low</td>\n",
       "      <td>aoa_high</td>\n",
       "      <td>gender_unisex</td>\n",
       "      <td>web_corpus_no_freq</td>\n",
       "    </tr>\n",
       "    <tr>\n",
       "      <th>2</th>\n",
       "      <td>10</td>\n",
       "      <td>0</td>\n",
       "      <td>arousal_low</td>\n",
       "      <td>valence_high</td>\n",
       "      <td>dominance_high</td>\n",
       "      <td>concreteness_low</td>\n",
       "      <td>familiarity_low</td>\n",
       "      <td>aoa_high</td>\n",
       "      <td>gender_unisex</td>\n",
       "      <td>web_corpus_no_freq</td>\n",
       "    </tr>\n",
       "    <tr>\n",
       "      <th>3</th>\n",
       "      <td>8</td>\n",
       "      <td>0</td>\n",
       "      <td>arousal_low</td>\n",
       "      <td>valence_low</td>\n",
       "      <td>dominance_low</td>\n",
       "      <td>concreteness_low</td>\n",
       "      <td>familiarity_low</td>\n",
       "      <td>aoa_high</td>\n",
       "      <td>gender_mal</td>\n",
       "      <td>web_corpus_no_freq</td>\n",
       "    </tr>\n",
       "    <tr>\n",
       "      <th>4</th>\n",
       "      <td>10</td>\n",
       "      <td>0</td>\n",
       "      <td>arousal_low</td>\n",
       "      <td>valence_low</td>\n",
       "      <td>dominance_low</td>\n",
       "      <td>concreteness_low</td>\n",
       "      <td>familiarity_low</td>\n",
       "      <td>aoa_high</td>\n",
       "      <td>gender_unisex</td>\n",
       "      <td>web_corpus_no_freq</td>\n",
       "    </tr>\n",
       "    <tr>\n",
       "      <th>...</th>\n",
       "      <td>...</td>\n",
       "      <td>...</td>\n",
       "      <td>...</td>\n",
       "      <td>...</td>\n",
       "      <td>...</td>\n",
       "      <td>...</td>\n",
       "      <td>...</td>\n",
       "      <td>...</td>\n",
       "      <td>...</td>\n",
       "      <td>...</td>\n",
       "    </tr>\n",
       "    <tr>\n",
       "      <th>4677</th>\n",
       "      <td>8</td>\n",
       "      <td>0</td>\n",
       "      <td>arousal_high</td>\n",
       "      <td>valence_low</td>\n",
       "      <td>dominance_high</td>\n",
       "      <td>concreteness_high</td>\n",
       "      <td>familiarity_low</td>\n",
       "      <td>aoa_high</td>\n",
       "      <td>gender_mal</td>\n",
       "      <td>web_corpus_no_freq</td>\n",
       "    </tr>\n",
       "    <tr>\n",
       "      <th>4678</th>\n",
       "      <td>4</td>\n",
       "      <td>0</td>\n",
       "      <td>arousal_low</td>\n",
       "      <td>valence_low</td>\n",
       "      <td>dominance_low</td>\n",
       "      <td>concreteness_low</td>\n",
       "      <td>familiarity_high</td>\n",
       "      <td>aoa_low</td>\n",
       "      <td>gender_unisex</td>\n",
       "      <td>web_corpus_freq</td>\n",
       "    </tr>\n",
       "    <tr>\n",
       "      <th>4679</th>\n",
       "      <td>4</td>\n",
       "      <td>0</td>\n",
       "      <td>arousal_high</td>\n",
       "      <td>valence_high</td>\n",
       "      <td>dominance_high</td>\n",
       "      <td>concreteness_low</td>\n",
       "      <td>familiarity_low</td>\n",
       "      <td>aoa_high</td>\n",
       "      <td>gender_unisex</td>\n",
       "      <td>web_corpus_no_freq</td>\n",
       "    </tr>\n",
       "    <tr>\n",
       "      <th>4680</th>\n",
       "      <td>3</td>\n",
       "      <td>0</td>\n",
       "      <td>arousal_high</td>\n",
       "      <td>valence_high</td>\n",
       "      <td>dominance_high</td>\n",
       "      <td>concreteness_high</td>\n",
       "      <td>familiarity_high</td>\n",
       "      <td>aoa_low</td>\n",
       "      <td>gender_unisex</td>\n",
       "      <td>web_corpus_no_freq</td>\n",
       "    </tr>\n",
       "    <tr>\n",
       "      <th>4681</th>\n",
       "      <td>7</td>\n",
       "      <td>0</td>\n",
       "      <td>arousal_low</td>\n",
       "      <td>valence_high</td>\n",
       "      <td>dominance_high</td>\n",
       "      <td>concreteness_low</td>\n",
       "      <td>familiarity_low</td>\n",
       "      <td>aoa_high</td>\n",
       "      <td>gender_unisex</td>\n",
       "      <td>web_corpus_no_freq</td>\n",
       "    </tr>\n",
       "  </tbody>\n",
       "</table>\n",
       "<p>4682 rows × 10 columns</p>\n",
       "</div>"
      ],
      "text/plain": [
       "      length  polysemy arousal_group valence_group dominance_group  \\\n",
       "0          8         0   arousal_low   valence_low   dominance_low   \n",
       "1          5         0   arousal_low  valence_high   dominance_low   \n",
       "2         10         0   arousal_low  valence_high  dominance_high   \n",
       "3          8         0   arousal_low   valence_low   dominance_low   \n",
       "4         10         0   arousal_low   valence_low   dominance_low   \n",
       "...      ...       ...           ...           ...             ...   \n",
       "4677       8         0  arousal_high   valence_low  dominance_high   \n",
       "4678       4         0   arousal_low   valence_low   dominance_low   \n",
       "4679       4         0  arousal_high  valence_high  dominance_high   \n",
       "4680       3         0  arousal_high  valence_high  dominance_high   \n",
       "4681       7         0   arousal_low  valence_high  dominance_high   \n",
       "\n",
       "     concreteness_group familiarity_group aoa_group   gender_group  \\\n",
       "0     concreteness_high   familiarity_low  aoa_high     gender_mal   \n",
       "1     concreteness_high   familiarity_low  aoa_high  gender_unisex   \n",
       "2      concreteness_low   familiarity_low  aoa_high  gender_unisex   \n",
       "3      concreteness_low   familiarity_low  aoa_high     gender_mal   \n",
       "4      concreteness_low   familiarity_low  aoa_high  gender_unisex   \n",
       "...                 ...               ...       ...            ...   \n",
       "4677  concreteness_high   familiarity_low  aoa_high     gender_mal   \n",
       "4678   concreteness_low  familiarity_high   aoa_low  gender_unisex   \n",
       "4679   concreteness_low   familiarity_low  aoa_high  gender_unisex   \n",
       "4680  concreteness_high  familiarity_high   aoa_low  gender_unisex   \n",
       "4681   concreteness_low   familiarity_low  aoa_high  gender_unisex   \n",
       "\n",
       "     web_corpus_freq_interp_group  \n",
       "0              web_corpus_no_freq  \n",
       "1              web_corpus_no_freq  \n",
       "2              web_corpus_no_freq  \n",
       "3              web_corpus_no_freq  \n",
       "4              web_corpus_no_freq  \n",
       "...                           ...  \n",
       "4677           web_corpus_no_freq  \n",
       "4678              web_corpus_freq  \n",
       "4679           web_corpus_no_freq  \n",
       "4680           web_corpus_no_freq  \n",
       "4681           web_corpus_no_freq  \n",
       "\n",
       "[4682 rows x 10 columns]"
      ]
     },
     "execution_count": 4,
     "metadata": {},
     "output_type": "execute_result"
    }
   ],
   "source": [
    "mean_0=df['arousal'].mean()\n",
    "mean_1=df['valence'].mean()\n",
    "mean_2=df['dominance'].mean()\n",
    "mean_3=df['concreteness'].mean()\n",
    "mean_4=df['familiarity'].mean()\n",
    "mean_5=df['aoa'].mean()\n",
    "mean_6=df['gender'].mean()\n",
    "mean_7=df['web_corpus_freq_interp_linear'].mean()\n",
    "\n",
    "max_0=df['arousal'].max()\n",
    "max_1=df['valence'].max()\n",
    "max_2=df['dominance'].max()\n",
    "max_3=df['concreteness'].max()\n",
    "max_4=df['familiarity'].max()\n",
    "max_5=df['aoa'].max()\n",
    "max_6=df['gender'].max()\n",
    "max_7=df['web_corpus_freq_interp_linear'].max()\n",
    "\n",
    "mm=(mean_7+max_7)/2\n",
    "om=mean_7/2\n",
    "\n",
    "bins=[0, mean_0, max_0]\n",
    "labels=['arousal_low','arousal_high']\n",
    "df['arousal_group'] = pd.cut(df['arousal'], bins, labels=labels)\n",
    "\n",
    "bins=[0, mean_1, max_1]\n",
    "labels=['valence_low','valence_high']\n",
    "df['valence_group'] = pd.cut(df['valence'], bins, labels=labels)\n",
    "\n",
    "bins=[0, mean_2, max_2]\n",
    "labels=['dominance_low','dominance_high']\n",
    "df['dominance_group'] = pd.cut(df['dominance'], bins, labels=labels)\n",
    "\n",
    "bins=[0, mean_3, max_3]\n",
    "labels=['concreteness_low','concreteness_high']\n",
    "df['concreteness_group'] = pd.cut(df['concreteness'], bins, labels=labels)\n",
    "\n",
    "bins=[0, mean_4, max_4]\n",
    "labels=['familiarity_low','familiarity_high']\n",
    "df['familiarity_group'] = pd.cut(df['familiarity'], bins, labels=labels)\n",
    "\n",
    "bins=[0, mean_5, max_5]\n",
    "labels=['aoa_low','aoa_high']\n",
    "df['aoa_group'] = pd.cut(df['aoa'], bins, labels=labels)\n",
    "\n",
    "bins=[1, 3.1, 4.87, max_6]\n",
    "labels=['gender_fem','gender_unisex','gender_mal']\n",
    "df['gender_group'] = pd.cut(df['gender'], bins, labels=labels)\n",
    "\n",
    "bins=[0,om,mean_7,mm,max_7]\n",
    "labels=['web_corpus_no_freq','web_corpus_low_freq','web_corpus_freq','web_corpus_high_freq']\n",
    "df['web_corpus_freq_interp_group'] = pd.cut(df['web_corpus_freq_interp_linear'], bins,labels=labels)\n",
    "\n",
    "#remove variables\n",
    "column3drop = [\"arousal\", 'valence', 'dominance', 'concreteness', 'familiarity', 'aoa', 'gender', 'web_corpus_freq_interp_linear']\n",
    "df.drop(column3drop, axis=1, inplace=True)\n",
    "\n",
    "df"
   ]
  },
  {
   "cell_type": "code",
   "execution_count": 5,
   "metadata": {},
   "outputs": [],
   "source": [
    "poly_dict = {0: 'Not Polysemic', 1: 'Polysemic'}\n",
    "df['polysemy'] = df['polysemy'].map(poly_dict)"
   ]
  },
  {
   "cell_type": "code",
   "execution_count": 6,
   "metadata": {},
   "outputs": [
    {
     "data": {
      "text/html": [
       "<div>\n",
       "<style scoped>\n",
       "    .dataframe tbody tr th:only-of-type {\n",
       "        vertical-align: middle;\n",
       "    }\n",
       "\n",
       "    .dataframe tbody tr th {\n",
       "        vertical-align: top;\n",
       "    }\n",
       "\n",
       "    .dataframe thead th {\n",
       "        text-align: right;\n",
       "    }\n",
       "</style>\n",
       "<table border=\"1\" class=\"dataframe\">\n",
       "  <thead>\n",
       "    <tr style=\"text-align: right;\">\n",
       "      <th></th>\n",
       "      <th>length</th>\n",
       "      <th>polysemy</th>\n",
       "      <th>arousal_group</th>\n",
       "      <th>valence_group</th>\n",
       "      <th>dominance_group</th>\n",
       "      <th>concreteness_group</th>\n",
       "      <th>familiarity_group</th>\n",
       "      <th>aoa_group</th>\n",
       "      <th>gender_group</th>\n",
       "      <th>web_corpus_freq_interp_group</th>\n",
       "    </tr>\n",
       "  </thead>\n",
       "  <tbody>\n",
       "    <tr>\n",
       "      <th>0</th>\n",
       "      <td>8</td>\n",
       "      <td>Not Polysemic</td>\n",
       "      <td>arousal_low</td>\n",
       "      <td>valence_low</td>\n",
       "      <td>dominance_low</td>\n",
       "      <td>concreteness_high</td>\n",
       "      <td>familiarity_low</td>\n",
       "      <td>aoa_high</td>\n",
       "      <td>gender_mal</td>\n",
       "      <td>web_corpus_no_freq</td>\n",
       "    </tr>\n",
       "    <tr>\n",
       "      <th>1</th>\n",
       "      <td>5</td>\n",
       "      <td>Not Polysemic</td>\n",
       "      <td>arousal_low</td>\n",
       "      <td>valence_high</td>\n",
       "      <td>dominance_low</td>\n",
       "      <td>concreteness_high</td>\n",
       "      <td>familiarity_low</td>\n",
       "      <td>aoa_high</td>\n",
       "      <td>gender_unisex</td>\n",
       "      <td>web_corpus_no_freq</td>\n",
       "    </tr>\n",
       "    <tr>\n",
       "      <th>2</th>\n",
       "      <td>10</td>\n",
       "      <td>Not Polysemic</td>\n",
       "      <td>arousal_low</td>\n",
       "      <td>valence_high</td>\n",
       "      <td>dominance_high</td>\n",
       "      <td>concreteness_low</td>\n",
       "      <td>familiarity_low</td>\n",
       "      <td>aoa_high</td>\n",
       "      <td>gender_unisex</td>\n",
       "      <td>web_corpus_no_freq</td>\n",
       "    </tr>\n",
       "    <tr>\n",
       "      <th>3</th>\n",
       "      <td>8</td>\n",
       "      <td>Not Polysemic</td>\n",
       "      <td>arousal_low</td>\n",
       "      <td>valence_low</td>\n",
       "      <td>dominance_low</td>\n",
       "      <td>concreteness_low</td>\n",
       "      <td>familiarity_low</td>\n",
       "      <td>aoa_high</td>\n",
       "      <td>gender_mal</td>\n",
       "      <td>web_corpus_no_freq</td>\n",
       "    </tr>\n",
       "    <tr>\n",
       "      <th>4</th>\n",
       "      <td>10</td>\n",
       "      <td>Not Polysemic</td>\n",
       "      <td>arousal_low</td>\n",
       "      <td>valence_low</td>\n",
       "      <td>dominance_low</td>\n",
       "      <td>concreteness_low</td>\n",
       "      <td>familiarity_low</td>\n",
       "      <td>aoa_high</td>\n",
       "      <td>gender_unisex</td>\n",
       "      <td>web_corpus_no_freq</td>\n",
       "    </tr>\n",
       "  </tbody>\n",
       "</table>\n",
       "</div>"
      ],
      "text/plain": [
       "   length       polysemy arousal_group valence_group dominance_group  \\\n",
       "0       8  Not Polysemic   arousal_low   valence_low   dominance_low   \n",
       "1       5  Not Polysemic   arousal_low  valence_high   dominance_low   \n",
       "2      10  Not Polysemic   arousal_low  valence_high  dominance_high   \n",
       "3       8  Not Polysemic   arousal_low   valence_low   dominance_low   \n",
       "4      10  Not Polysemic   arousal_low   valence_low   dominance_low   \n",
       "\n",
       "  concreteness_group familiarity_group aoa_group   gender_group  \\\n",
       "0  concreteness_high   familiarity_low  aoa_high     gender_mal   \n",
       "1  concreteness_high   familiarity_low  aoa_high  gender_unisex   \n",
       "2   concreteness_low   familiarity_low  aoa_high  gender_unisex   \n",
       "3   concreteness_low   familiarity_low  aoa_high     gender_mal   \n",
       "4   concreteness_low   familiarity_low  aoa_high  gender_unisex   \n",
       "\n",
       "  web_corpus_freq_interp_group  \n",
       "0           web_corpus_no_freq  \n",
       "1           web_corpus_no_freq  \n",
       "2           web_corpus_no_freq  \n",
       "3           web_corpus_no_freq  \n",
       "4           web_corpus_no_freq  "
      ]
     },
     "execution_count": 6,
     "metadata": {},
     "output_type": "execute_result"
    }
   ],
   "source": [
    "df.head()"
   ]
  },
  {
   "cell_type": "code",
   "execution_count": 7,
   "metadata": {},
   "outputs": [],
   "source": [
    "X = df.values.tolist()"
   ]
  },
  {
   "cell_type": "code",
   "execution_count": 8,
   "metadata": {},
   "outputs": [
    {
     "data": {
      "text/plain": [
       "[10,\n",
       " 'Not Polysemic',\n",
       " 'arousal_low',\n",
       " 'valence_low',\n",
       " 'dominance_low',\n",
       " 'concreteness_low',\n",
       " 'familiarity_low',\n",
       " 'aoa_high',\n",
       " 'gender_unisex',\n",
       " 'web_corpus_no_freq']"
      ]
     },
     "execution_count": 8,
     "metadata": {},
     "output_type": "execute_result"
    }
   ],
   "source": [
    "X[4]"
   ]
  },
  {
   "cell_type": "code",
   "execution_count": 9,
   "metadata": {},
   "outputs": [],
   "source": [
    "itemsets = apriori(X, supp=10, zmin=3, report='S')"
   ]
  },
  {
   "cell_type": "code",
   "execution_count": 10,
   "metadata": {},
   "outputs": [
    {
     "data": {
      "text/plain": [
       "983"
      ]
     },
     "execution_count": 10,
     "metadata": {},
     "output_type": "execute_result"
    }
   ],
   "source": [
    "len(itemsets)"
   ]
  },
  {
   "cell_type": "code",
   "execution_count": 11,
   "metadata": {},
   "outputs": [
    {
     "data": {
      "text/plain": [
       "('gender_fem', 'valence_high', 'Not Polysemic')"
      ]
     },
     "execution_count": 11,
     "metadata": {},
     "output_type": "execute_result"
    }
   ],
   "source": [
    "#frequent itemset\n",
    "itemsets[0][0]"
   ]
  },
  {
   "cell_type": "code",
   "execution_count": 12,
   "metadata": {},
   "outputs": [
    {
     "data": {
      "text/plain": [
       "10.465612985903459"
      ]
     },
     "execution_count": 12,
     "metadata": {},
     "output_type": "execute_result"
    }
   ],
   "source": [
    "#support\n",
    "itemsets[0][1]"
   ]
  },
  {
   "cell_type": "code",
   "execution_count": 13,
   "metadata": {},
   "outputs": [],
   "source": [
    "itemsets = apriori(X, target='m', supp=2, zmin=3, report='S')"
   ]
  },
  {
   "cell_type": "code",
   "execution_count": 14,
   "metadata": {},
   "outputs": [],
   "source": [
    "n_f_its = []\n",
    "F = np.arange(1, 96, 1)\n",
    "for i in F:\n",
    "    n_f_its.append(len(apriori(X, supp=i, zmin=3, report='S')))"
   ]
  },
  {
   "cell_type": "code",
   "execution_count": 15,
   "metadata": {},
   "outputs": [
    {
     "data": {
      "image/png": "[encoded data removed]",
      "text/plain": [
       "<Figure size 1224x576 with 1 Axes>"
      ]
     },
     "metadata": {
      "needs_background": "light"
     },
     "output_type": "display_data"
    }
   ],
   "source": [
    "plt.figure(figsize=(17,8))\n",
    "values = np.arange(0, 100, 5)\n",
    "plt.rcParams['axes.facecolor'] = 'w'\n",
    "plt.plot(range(1, len(n_f_its)+1), n_f_its, markersize=10, markerfacecolor='black')\n",
    "plt.ylabel('Numero di frequent patterns \\n', fontsize = 15, fontweight = 'bold')\n",
    "plt.xlabel('\\n min_sup', fontsize = 15, fontweight = 'bold')\n",
    "plt.xticks(values, rotation = '075')\n",
    "plt.grid(True)\n",
    "plt.show()"
   ]
  },
  {
   "cell_type": "code",
   "execution_count": 16,
   "metadata": {},
   "outputs": [],
   "source": [
    "n_f_itconf = []\n",
    "F = np.arange(1, 96, 1)\n",
    "for i in F:\n",
    "    n_f_itconf.append(len(apriori(X, target='r', supp=2, zmin=3, conf=i, report='c')))"
   ]
  },
  {
   "cell_type": "code",
   "execution_count": 17,
   "metadata": {},
   "outputs": [
    {
     "data": {
      "image/png": "[encoded data removed]",
      "text/plain": [
       "<Figure size 1224x576 with 1 Axes>"
      ]
     },
     "metadata": {
      "needs_background": "light"
     },
     "output_type": "display_data"
    }
   ],
   "source": [
    "plt.figure(figsize=(17,8))\n",
    "values = np.arange(0, 100, 5)\n",
    "plt.rcParams['axes.facecolor'] = 'w'\n",
    "plt.plot(range(1, len(n_f_itconf)+1), n_f_itconf, markersize=10, markerfacecolor='black')\n",
    "plt.ylabel('Number of association rules \\n', fontsize = 15, fontweight = 'bold')\n",
    "plt.xlabel('\\n min_conf', fontsize = 15, fontweight = 'bold')\n",
    "plt.xticks(values, rotation = '075')\n",
    "plt.grid(True)\n",
    "plt.show()"
   ]
  },
  {
   "cell_type": "code",
   "execution_count": 18,
   "metadata": {},
   "outputs": [
    {
     "data": {
      "image/png": "[encoded data removed]",
      "text/plain": [
       "<Figure size 1080x576 with 1 Axes>"
      ]
     },
     "metadata": {
      "needs_background": "light"
     },
     "output_type": "display_data"
    }
   ],
   "source": [
    "plt.figure(figsize=(15,8))\n",
    "nar = []\n",
    "conf = []\n",
    "F = np.arange(80, 100, 1)\n",
    "for i in F:\n",
    "    nar.append(len(apriori(X, target='r', supp=2, conf = i, zmin=3, report='aScl')))\n",
    "    conf.append(i)\n",
    "\n",
    "val = np.arange(0, 14000, 1000)\n",
    "plt.bar(conf, nar, align='edge', width=1, edgecolor='k', linewidth=1.2)\n",
    "plt.ylabel('Number of association rules \\n', fontsize = 15, fontweight = 'bold')\n",
    "plt.xlabel('\\n Confidence', fontsize = 15, fontweight = 'bold')\n",
    "plt.yticks(val)\n",
    "plt.show()"
   ]
  },
  {
   "cell_type": "code",
   "execution_count": 19,
   "metadata": {},
   "outputs": [
    {
     "data": {
      "text/plain": [
       "9712"
      ]
     },
     "execution_count": 19,
     "metadata": {},
     "output_type": "execute_result"
    }
   ],
   "source": [
    "nar[:][4]"
   ]
  },
  {
   "cell_type": "code",
   "execution_count": 20,
   "metadata": {},
   "outputs": [
    {
     "data": {
      "text/plain": [
       "(3, 'concreteness_high', 'aoa_low')"
      ]
     },
     "execution_count": 20,
     "metadata": {},
     "output_type": "execute_result"
    }
   ],
   "source": [
    "itemsets[0][0]"
   ]
  },
  {
   "cell_type": "code",
   "execution_count": 21,
   "metadata": {},
   "outputs": [
    {
     "data": {
      "image/png": "[encoded data removed]",
      "text/plain": [
       "<Figure size 432x288 with 1 Axes>"
      ]
     },
     "metadata": {
      "needs_background": "light"
     },
     "output_type": "display_data"
    }
   ],
   "source": [
    "#Maximal & frequent itemsets\n",
    "len_max_it = []\n",
    "len_cl_it = []\n",
    "for i in range(2, 6+1):\n",
    "    max_itemsets = apriori(X, target='m', supp=i, zmin=3)\n",
    "    cl_itemsets = apriori(X, target='c', supp=i, zmin=3)\n",
    "    len_max_it.append( len(max_itemsets)  )\n",
    "    len_cl_it.append( len(cl_itemsets) )\n",
    "    \n",
    "plt.plot(len_max_it, label='maximal')\n",
    "plt.plot(len_cl_it, label='closed')\n",
    "plt.legend(fontsize=20)\n",
    "plt.xticks(fontsize=20)\n",
    "plt.xlabel('%support', fontsize=15)\n",
    "\n",
    "plt.show()"
   ]
  },
  {
   "cell_type": "code",
   "execution_count": 22,
   "metadata": {},
   "outputs": [
    {
     "data": {
      "image/png": "[encoded data removed]",
      "text/plain": [
       "<Figure size 432x288 with 1 Axes>"
      ]
     },
     "metadata": {
      "needs_background": "light"
     },
     "output_type": "display_data"
    }
   ],
   "source": [
    "#Number of itemsets w/ polysemic or w/ not polysemic\n",
    "filter_1 = []\n",
    "filter_2 = []\n",
    "for i in range(2, 20+1):\n",
    "    max_itemsets = apriori(X, target='m', supp=i, zmin=3)\n",
    "    \n",
    "    filter_1.append( len([item for item in max_itemsets if 'Polysemic' in item[0]])  )\n",
    "    filter_2.append( len([item for item in max_itemsets if 'Not Polysemic' in item[0]]) )\n",
    "    \n",
    "plt.plot(filter_1, label='w/ Polysemic')\n",
    "plt.plot(filter_2, label='w/ Not Polysemic')\n",
    "plt.legend(fontsize=10)\n",
    "plt.xticks(fontsize=10)\n",
    "plt.xlabel('%support', fontsize=15)\n",
    "\n",
    "plt.show()"
   ]
  },
  {
   "cell_type": "markdown",
   "metadata": {},
   "source": []
  },
  {
   "cell_type": "code",
   "execution_count": 23,
   "metadata": {},
   "outputs": [],
   "source": [
    "rules = apriori(X, target='r', supp=2, conf=80, zmin=3, report='aScl')"
   ]
  },
  {
   "cell_type": "code",
   "execution_count": 24,
   "metadata": {},
   "outputs": [
    {
     "data": {
      "text/plain": [
       "('familiarity_high', (3, 'concreteness_high', 'aoa_low'))"
      ]
     },
     "execution_count": 24,
     "metadata": {},
     "output_type": "execute_result"
    }
   ],
   "source": [
    "rules[0][0], rules[0][1]"
   ]
  },
  {
   "cell_type": "code",
   "execution_count": 25,
   "metadata": {},
   "outputs": [
    {
     "data": {
      "text/plain": [
       "79"
      ]
     },
     "execution_count": 25,
     "metadata": {},
     "output_type": "execute_result"
    }
   ],
   "source": [
    "#asbolute support\n",
    "rules[0][2]"
   ]
  },
  {
   "cell_type": "code",
   "execution_count": 26,
   "metadata": {},
   "outputs": [
    {
     "data": {
      "text/plain": [
       "1.687313114053823"
      ]
     },
     "execution_count": 26,
     "metadata": {},
     "output_type": "execute_result"
    }
   ],
   "source": [
    "#support as percentage\n",
    "rules[0][3]"
   ]
  },
  {
   "cell_type": "code",
   "execution_count": 27,
   "metadata": {},
   "outputs": [
    {
     "data": {
      "text/plain": [
       "0.8144329896907216"
      ]
     },
     "execution_count": 27,
     "metadata": {},
     "output_type": "execute_result"
    }
   ],
   "source": [
    "#confidence\n",
    "rules[0][4]"
   ]
  },
  {
   "cell_type": "code",
   "execution_count": 28,
   "metadata": {},
   "outputs": [
    {
     "data": {
      "text/plain": [
       "1.745900063815228"
      ]
     },
     "execution_count": 28,
     "metadata": {},
     "output_type": "execute_result"
    }
   ],
   "source": [
    "#lift\n",
    "rules[1][5]"
   ]
  },
  {
   "cell_type": "code",
   "execution_count": 29,
   "metadata": {
    "tags": []
   },
   "outputs": [
    {
     "data": {
      "image/png": "[encoded data removed]",
      "text/plain": [
       "<Figure size 432x288 with 1 Axes>"
      ]
     },
     "metadata": {
      "needs_background": "light"
     },
     "output_type": "display_data"
    }
   ],
   "source": [
    "i = 0\n",
    "a = []\n",
    "while (i < len(rules)):\n",
    "    if (rules[i][5]):\n",
    "        a.append(rules[i][5])\n",
    "    i+=1\n",
    "sns.histplot(a)\n",
    "plt.xlabel('\\n Lift', fontsize = 15, fontweight='bold')\n",
    "plt.ylabel('Number of association Rule \\n', fontsize= 15, fontweight='bold')\n",
    "plt.show()"
   ]
  },
  {
   "cell_type": "code",
   "execution_count": 30,
   "metadata": {},
   "outputs": [
    {
     "data": {
      "text/html": [
       "<div>\n",
       "<style scoped>\n",
       "    .dataframe tbody tr th:only-of-type {\n",
       "        vertical-align: middle;\n",
       "    }\n",
       "\n",
       "    .dataframe tbody tr th {\n",
       "        vertical-align: top;\n",
       "    }\n",
       "\n",
       "    .dataframe thead th {\n",
       "        text-align: right;\n",
       "    }\n",
       "</style>\n",
       "<table border=\"1\" class=\"dataframe\">\n",
       "  <thead>\n",
       "    <tr style=\"text-align: right;\">\n",
       "      <th></th>\n",
       "      <th>0</th>\n",
       "      <th>1</th>\n",
       "      <th>2</th>\n",
       "      <th>3</th>\n",
       "      <th>4</th>\n",
       "      <th>5</th>\n",
       "    </tr>\n",
       "  </thead>\n",
       "  <tbody>\n",
       "    <tr>\n",
       "      <th>0</th>\n",
       "      <td>valence_low</td>\n",
       "      <td>(gender_mal, familiarity_low, dominance_low, a...</td>\n",
       "      <td>92</td>\n",
       "      <td>1.964972</td>\n",
       "      <td>0.968421</td>\n",
       "      <td>2.286509</td>\n",
       "    </tr>\n",
       "    <tr>\n",
       "      <th>1</th>\n",
       "      <td>valence_low</td>\n",
       "      <td>(gender_mal, dominance_low, arousal_high, aoa_...</td>\n",
       "      <td>93</td>\n",
       "      <td>1.986331</td>\n",
       "      <td>0.958763</td>\n",
       "      <td>2.263705</td>\n",
       "    </tr>\n",
       "    <tr>\n",
       "      <th>2</th>\n",
       "      <td>valence_low</td>\n",
       "      <td>(gender_mal, dominance_low, arousal_high, aoa_...</td>\n",
       "      <td>95</td>\n",
       "      <td>2.029047</td>\n",
       "      <td>0.959596</td>\n",
       "      <td>2.265672</td>\n",
       "    </tr>\n",
       "    <tr>\n",
       "      <th>3</th>\n",
       "      <td>valence_low</td>\n",
       "      <td>(gender_mal, dominance_low, arousal_high, aoa_...</td>\n",
       "      <td>103</td>\n",
       "      <td>2.199915</td>\n",
       "      <td>0.953704</td>\n",
       "      <td>2.251760</td>\n",
       "    </tr>\n",
       "    <tr>\n",
       "      <th>4</th>\n",
       "      <td>valence_low</td>\n",
       "      <td>(gender_mal, dominance_low, arousal_high, aoa_...</td>\n",
       "      <td>106</td>\n",
       "      <td>2.263990</td>\n",
       "      <td>0.954955</td>\n",
       "      <td>2.254715</td>\n",
       "    </tr>\n",
       "    <tr>\n",
       "      <th>5</th>\n",
       "      <td>valence_low</td>\n",
       "      <td>(gender_mal, dominance_low, arousal_high, web_...</td>\n",
       "      <td>126</td>\n",
       "      <td>2.691158</td>\n",
       "      <td>0.933333</td>\n",
       "      <td>2.203664</td>\n",
       "    </tr>\n",
       "    <tr>\n",
       "      <th>6</th>\n",
       "      <td>valence_low</td>\n",
       "      <td>(gender_mal, dominance_low, arousal_high, web_...</td>\n",
       "      <td>130</td>\n",
       "      <td>2.776591</td>\n",
       "      <td>0.935252</td>\n",
       "      <td>2.208194</td>\n",
       "    </tr>\n",
       "    <tr>\n",
       "      <th>7</th>\n",
       "      <td>valence_low</td>\n",
       "      <td>(gender_mal, dominance_low, aoa_high, concrete...</td>\n",
       "      <td>90</td>\n",
       "      <td>1.922255</td>\n",
       "      <td>0.957447</td>\n",
       "      <td>2.260598</td>\n",
       "    </tr>\n",
       "    <tr>\n",
       "      <th>8</th>\n",
       "      <td>valence_low</td>\n",
       "      <td>(gender_mal, dominance_low, aoa_high, concrete...</td>\n",
       "      <td>92</td>\n",
       "      <td>1.964972</td>\n",
       "      <td>0.958333</td>\n",
       "      <td>2.262691</td>\n",
       "    </tr>\n",
       "    <tr>\n",
       "      <th>9</th>\n",
       "      <td>valence_low</td>\n",
       "      <td>(gender_mal, dominance_low, concreteness_low, ...</td>\n",
       "      <td>107</td>\n",
       "      <td>2.285348</td>\n",
       "      <td>0.955357</td>\n",
       "      <td>2.255664</td>\n",
       "    </tr>\n",
       "    <tr>\n",
       "      <th>10</th>\n",
       "      <td>valence_low</td>\n",
       "      <td>(gender_mal, dominance_low, concreteness_low, ...</td>\n",
       "      <td>110</td>\n",
       "      <td>2.349423</td>\n",
       "      <td>0.956522</td>\n",
       "      <td>2.258414</td>\n",
       "    </tr>\n",
       "    <tr>\n",
       "      <th>11</th>\n",
       "      <td>familiarity_low</td>\n",
       "      <td>(6, concreteness_high, aoa_high, arousal_low, ...</td>\n",
       "      <td>97</td>\n",
       "      <td>2.071764</td>\n",
       "      <td>0.960396</td>\n",
       "      <td>2.208534</td>\n",
       "    </tr>\n",
       "    <tr>\n",
       "      <th>12</th>\n",
       "      <td>familiarity_low</td>\n",
       "      <td>(6, concreteness_high, aoa_high, arousal_low, ...</td>\n",
       "      <td>100</td>\n",
       "      <td>2.135839</td>\n",
       "      <td>0.961538</td>\n",
       "      <td>2.211161</td>\n",
       "    </tr>\n",
       "  </tbody>\n",
       "</table>\n",
       "</div>"
      ],
      "text/plain": [
       "                  0                                                  1    2  \\\n",
       "0       valence_low  (gender_mal, familiarity_low, dominance_low, a...   92   \n",
       "1       valence_low  (gender_mal, dominance_low, arousal_high, aoa_...   93   \n",
       "2       valence_low  (gender_mal, dominance_low, arousal_high, aoa_...   95   \n",
       "3       valence_low  (gender_mal, dominance_low, arousal_high, aoa_...  103   \n",
       "4       valence_low  (gender_mal, dominance_low, arousal_high, aoa_...  106   \n",
       "5       valence_low  (gender_mal, dominance_low, arousal_high, web_...  126   \n",
       "6       valence_low  (gender_mal, dominance_low, arousal_high, web_...  130   \n",
       "7       valence_low  (gender_mal, dominance_low, aoa_high, concrete...   90   \n",
       "8       valence_low  (gender_mal, dominance_low, aoa_high, concrete...   92   \n",
       "9       valence_low  (gender_mal, dominance_low, concreteness_low, ...  107   \n",
       "10      valence_low  (gender_mal, dominance_low, concreteness_low, ...  110   \n",
       "11  familiarity_low  (6, concreteness_high, aoa_high, arousal_low, ...   97   \n",
       "12  familiarity_low  (6, concreteness_high, aoa_high, arousal_low, ...  100   \n",
       "\n",
       "           3         4         5  \n",
       "0   1.964972  0.968421  2.286509  \n",
       "1   1.986331  0.958763  2.263705  \n",
       "2   2.029047  0.959596  2.265672  \n",
       "3   2.199915  0.953704  2.251760  \n",
       "4   2.263990  0.954955  2.254715  \n",
       "5   2.691158  0.933333  2.203664  \n",
       "6   2.776591  0.935252  2.208194  \n",
       "7   1.922255  0.957447  2.260598  \n",
       "8   1.964972  0.958333  2.262691  \n",
       "9   2.285348  0.955357  2.255664  \n",
       "10  2.349423  0.956522  2.258414  \n",
       "11  2.071764  0.960396  2.208534  \n",
       "12  2.135839  0.961538  2.211161  "
      ]
     },
     "execution_count": 30,
     "metadata": {},
     "output_type": "execute_result"
    }
   ],
   "source": [
    "i=0\n",
    "c = []\n",
    "while(i<(len(rules))):\n",
    "    if (rules[i][5] > 2.2):\n",
    "        c.append(rules[i])\n",
    "    i +=1\n",
    "    \n",
    "res = pd.DataFrame(c)\n",
    "res"
   ]
  },
  {
   "cell_type": "code",
   "execution_count": 31,
   "metadata": {},
   "outputs": [
    {
     "name": "stdout",
     "output_type": "stream",
     "text": [
      "('gender_mal', 'familiarity_low', 'dominance_low', 'arousal_high')\n",
      "('gender_mal', 'dominance_low', 'arousal_high', 'aoa_high', 'web_corpus_no_freq', 'Not Polysemic')\n",
      "('gender_mal', 'dominance_low', 'arousal_high', 'aoa_high', 'web_corpus_no_freq')\n",
      "('gender_mal', 'dominance_low', 'arousal_high', 'aoa_high', 'Not Polysemic')\n",
      "('gender_mal', 'dominance_low', 'arousal_high', 'aoa_high')\n",
      "('gender_mal', 'dominance_low', 'arousal_high', 'web_corpus_no_freq', 'Not Polysemic')\n",
      "('gender_mal', 'dominance_low', 'arousal_high', 'web_corpus_no_freq')\n",
      "('gender_mal', 'dominance_low', 'aoa_high', 'concreteness_low', 'web_corpus_no_freq', 'Not Polysemic')\n",
      "('gender_mal', 'dominance_low', 'aoa_high', 'concreteness_low', 'web_corpus_no_freq')\n",
      "('gender_mal', 'dominance_low', 'concreteness_low', 'web_corpus_no_freq', 'Not Polysemic')\n",
      "('gender_mal', 'dominance_low', 'concreteness_low', 'web_corpus_no_freq')\n",
      "(6, 'concreteness_high', 'aoa_high', 'arousal_low', 'web_corpus_no_freq', 'Not Polysemic')\n",
      "(6, 'concreteness_high', 'aoa_high', 'arousal_low', 'web_corpus_no_freq')\n"
     ]
    }
   ],
   "source": [
    "for i in range(len(res)):\n",
    "    print(res[1][i])"
   ]
  },
  {
   "cell_type": "code",
   "execution_count": 32,
   "metadata": {},
   "outputs": [
    {
     "name": "stdout",
     "output_type": "stream",
     "text": [
      "('familiarity_low', 'aoa_high', 'web_corpus_no_freq', 'gender_unisex') 20.034173430158052\n"
     ]
    }
   ],
   "source": [
    "i = 0\n",
    "high = 0\n",
    "while (i < len(rules)):\n",
    "    if (len(rules[i][1]) == 4):\n",
    "        if (rules[i][3]) > high:\n",
    "            high = rules[i][3]\n",
    "            a = i\n",
    "    i += 1\n",
    "print(rules[a][1], high)"
   ]
  },
  {
   "cell_type": "code",
   "execution_count": 33,
   "metadata": {},
   "outputs": [],
   "source": [
    "rules = apriori(X, target='r', supp=2, conf=80, zmin=3, report='aScl')"
   ]
  },
  {
   "cell_type": "code",
   "execution_count": 34,
   "metadata": {
    "tags": []
   },
   "outputs": [
    {
     "data": {
      "text/plain": [
       "4961"
      ]
     },
     "execution_count": 34,
     "metadata": {},
     "output_type": "execute_result"
    }
   ],
   "source": [
    "#check how many ass. rules contains 'Not polysemic'\n",
    "num = 0\n",
    "for r in rules:\n",
    "    if (r[0] == 'Not Polysemic'): #changing this we can find how many ass. rules contains other things\n",
    "        #print(r)\n",
    "        num += 1\n",
    "num"
   ]
  },
  {
   "cell_type": "markdown",
   "metadata": {},
   "source": [
    "# Prediction of a target variable"
   ]
  },
  {
   "cell_type": "code",
   "execution_count": 36,
   "metadata": {
    "tags": []
   },
   "outputs": [
    {
     "name": "stdout",
     "output_type": "stream",
     "text": [
      "to_predict: Not Polysemic\n",
      "how? (10, 'familiarity_low', 'aoa_high')\n"
     ]
    }
   ],
   "source": [
    "print('to_predict:', [r for r in rules if r[0] == 'Not Polysemic'][0][0])\n",
    "print('how?', [r for r in rules if r[0] == 'Not Polysemic'][0][1])"
   ]
  },
  {
   "cell_type": "markdown",
   "metadata": {},
   "source": [
    "# Relationship between 'confidence' and 'support'"
   ]
  },
  {
   "cell_type": "code",
   "execution_count": 37,
   "metadata": {},
   "outputs": [],
   "source": [
    "len_r = []\n",
    "for i in range(2, 20+1): #support\n",
    "    len_r_wrt_i = []\n",
    "    for j in range(80, 100+1): #confidence\n",
    "        rules = apriori(X, target='r', supp=i, zmin=3, conf=j, report='aScl')\n",
    "        \n",
    "        len_r_wrt_i.append(len(rules)) #study your characteristics/properties here\n",
    "        \n",
    "    len_r.append(len_r_wrt_i)"
   ]
  },
  {
   "cell_type": "code",
   "execution_count": 38,
   "metadata": {},
   "outputs": [
    {
     "data": {
      "image/png": "[encoded data removed]",
      "text/plain": [
       "<Figure size 432x288 with 2 Axes>"
      ]
     },
     "metadata": {
      "needs_background": "light"
     },
     "output_type": "display_data"
    }
   ],
   "source": [
    "plt.imshow(len_r, cmap='Blues', alpha=0.8 )\n",
    "plt.xlabel('\\n %support', fontsize=15, fontweight = 'bold')\n",
    "plt.ylabel('%confidence \\n', fontsize=15, fontweight = 'bold')\n",
    "plt.xticks(fontsize=20)\n",
    "plt.yticks(np.arange(0,25,5), np.arange(80,105,5), fontsize=20)\n",
    "plt.colorbar()\n",
    "\n",
    "plt.show()"
   ]
  },
  {
   "cell_type": "markdown",
   "metadata": {},
   "source": [
    "# Searching if missing values (from data preparation) are in the same range here"
   ]
  },
  {
   "cell_type": "code",
   "execution_count": 39,
   "metadata": {},
   "outputs": [
    {
     "name": "stdout",
     "output_type": "stream",
     "text": [
      "web_corpus_no_freq position 585\n",
      "web_corpus_no_freq position 753\n",
      "web_corpus_no_freq position 1070\n",
      "web_corpus_no_freq position 1076\n",
      "web_corpus_freq position 1540\n",
      "web_corpus_no_freq position 1559\n",
      "web_corpus_low_freq position 2673\n",
      "web_corpus_no_freq position 2724\n",
      "web_corpus_no_freq position 2726\n",
      "web_corpus_no_freq position 3773\n",
      "web_corpus_low_freq position 4347\n",
      "web_corpus_no_freq position 4365\n",
      "web_corpus_freq position 4373\n",
      "web_corpus_no_freq position 4668\n"
     ]
    }
   ],
   "source": [
    "mv=[585, 753, 1070, 1076, 1540, 1559, 2673, 2724, 2726, 3773, 4347, 4365, 4373, 4668]\n",
    "print(df.iloc[585][9], 'position', mv[0])\n",
    "print(df.iloc[753][9], 'position', mv[1])\n",
    "print(df.iloc[1070][9], 'position', mv[2])\n",
    "print(df.iloc[1076][9], 'position', mv[3])\n",
    "print(df.iloc[1540][9], 'position', mv[4])\n",
    "print(df.iloc[1559][9], 'position', mv[5])\n",
    "print(df.iloc[2673][9], 'position', mv[6])\n",
    "print(df.iloc[2724][9], 'position', mv[7])\n",
    "print(df.iloc[2726][9], 'position', mv[8])\n",
    "print(df.iloc[3773][9], 'position', mv[9])\n",
    "print(df.iloc[4347][9], 'position', mv[10])\n",
    "print(df.iloc[4365][9], 'position', mv[11])\n",
    "print(df.iloc[4373][9], 'position', mv[12])\n",
    "print(df.iloc[4668][9], 'position', mv[13])"
   ]
  }
 ],
 "metadata": {
  "kernelspec": {
   "display_name": "Python 3 (ipykernel)",
   "language": "python",
   "name": "python3"
  },
  "language_info": {
   "codemirror_mode": {
    "name": "ipython",
    "version": 3
   },
   "file_extension": ".py",
   "mimetype": "text/x-python",
   "name": "python",
   "nbconvert_exporter": "python",
   "pygments_lexer": "ipython3",
   "version": "3.8.2"
  }
 },
 "nbformat": 4,
 "nbformat_minor": 4
}
